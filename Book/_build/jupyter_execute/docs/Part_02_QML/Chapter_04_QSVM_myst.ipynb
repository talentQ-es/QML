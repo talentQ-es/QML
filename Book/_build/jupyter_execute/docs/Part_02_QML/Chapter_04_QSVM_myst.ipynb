{
 "cells": [
  {
   "cell_type": "markdown",
   "metadata": {},
   "source": [
    "> May 03, 2024 | {sub-ref}`wordcount-minutes` min read\n",
    "\n",
    "\n",
    "$ \\renewcommand{\\bra}[1]{\\langle #1|} $\n",
    "$ \\renewcommand{\\ket}[1]{|#1\\rangle} $\n",
    "$ \\renewcommand{\\braket}[2]{\\langle #1|#2\\rangle} $\n",
    "$ \\newcommand{\\ketbra}[2]{| #1\\rangle \\langle #2|} $\n",
    "$ \\renewcommand{\\i}{{\\color{blue} i}} $ \n",
    "$ \\newcommand{\\Hil}{{\\mathbb H}} $\n",
    "$ \\newcommand{\\boldn}{{\\bf n}} $\n",
    "$ \\newcommand{\\tr}{{\\rm tr}}$\n",
    "$ \\newcommand{\\bn}{{\\bf n}} $"
   ]
  },
  {
   "cell_type": "markdown",
   "metadata": {},
   "source": [
    "Consulta la notación que se ha utilizado durante todo el documento en el siguiente [enlace](#4notacion)."
   ]
  },
  {
   "cell_type": "markdown",
   "metadata": {},
   "source": [
    "(sec_QML_QSVM)= \n",
    "\n",
    "# 4. Quantum Support Vector Machines (QSVM)"
   ]
  },
  {
   "cell_type": "markdown",
   "metadata": {},
   "source": [
    "En esta sección, se tratarán las **máquinas de vectores de soporte o de soporte vectorial** (en inglés *Support Vector Machines*, SVM) tanto en computación clásica como en computación cuántica. En este último caso, la solución es conocida como **máquinas de vectores de soporte cuánticos** (en su sigla en inglés *QSVM*). A su vez, se presentarán algunas implementaciones de ambas computaciones. "
   ]
  },
  {
   "cell_type": "markdown",
   "metadata": {},
   "source": [
    "(sec_SVM)= \n",
    "## 4.1. Support Vector Machines (SVM)"
   ]
  },
  {
   "cell_type": "markdown",
   "metadata": {},
   "source": [
    "Las máquinas de vectores de soporte o de soporte vectorial son un conjunto de modelos de aprendizaje supervisado propuesto por Vladimir Vapnik .atl en 1964 y posteriormente fueron mejorados en diferentes versiones  {cite}`bib_scikit_svm`, {cite}`bib_cortes1995support`. Los SVMs se pueden aplicar en procesos de clasificación, regresión y detección de valores atípicos (en inglés, *outliers*).\n",
    "\n",
    "En ***clasificación***, es conocido como **clasificador de vectores de soporte** (*SVC*, en sus siglas en inglés). El SVC construye el hiperplano óptimo que maximiza la distancia entre dos categorías del conjunto de datos para una mejor predicción. Es decir, busca el hiperplano con la mayor distancia de separación entre las dos categorías del conjunto de datos. Esta característica lo diferencia de los modelos de perceptrón, que buscan el hiperplano que distingue las dos categorías del conjunto de datos. Intuitivamente, una buena separación se consigue mediante el hiperplano que tiene la mayor distancia al punto de datos de entrenamiento más cercano de cualquier categoría (llamado margen funcional), ya que, en general, cuanto mayor es el margen, menor es el error de generalización del clasificador {cite}`bib_hastie_2009_elementsofstatistical_learning`.\n",
    "\n",
    "En la {numref}`fig_svm` se visualizan tres posibles hiperplanos para separar las dos clases/categorías del conjunto de datos, representadas por puntos negros y blancos. Los ejes $x_{1}$ y $x_{2}$ corresponden a las características de cada instancia en el conjunto de datos. El hiperplano H1 no separa adecuadamente las clases del conjunto de datos; el hiperplano H2 las separa con un margen pequeño y, en cambio, el hiperplano H3 las distingue con la distancia óptima. En consecuencia, se genera la frontera de decisión adecuada u óptima para la predicción. En otras palabras, el SVM con el hiperplano H3 distinguirá con mayor probabilidad la clase a la que pertenece un nuevo punto.\n",
    "\n",
    "::::{figure} imagenes/Svm_separating_hyperplanes.png\n",
    ":name: \"fig_svm\"\n",
    ":width: 400\n",
    ":align: center\n",
    "SVM con distintos hiperplanos\n",
    "::::\n",
    "\n",
    "En general, un conjunto de datos no es linealmente separable y el SVC no encontraría un hiperplano óptimo. En estos casos, se aplica el método del kernel, que permite el mapeo de los datos a otro espacio de características con mayor dimensión, donde sería más sencillo encontrar el hiperplano óptimo. Para más detalle de los métodos kernel, visualice el notebook {ref}`sec_QML_Quantum_Kernels`."
   ]
  },
  {
   "cell_type": "markdown",
   "metadata": {},
   "source": [
    "(sec_QSVC)= \n",
    "## 4.2. Clasificador de vectores de soporte cuántico"
   ]
  },
  {
   "cell_type": "markdown",
   "metadata": {},
   "source": [
    "El **clasificador de vectores de soporte cuántico** (*QSVC*, en sus siglas en inglés) es la aplicación del SVC en computación cuántica, como se ilustra en la {numref}`fig_qsvc`. Aprovecha la capacidad del SVC para trabajar con métodos kernel, los cuales pueden calcularse de manera eficiente en computación cuántica. De esta manera, se beneficia de la alta dimensionalidad del espacio de Hilbert {cite}`bib_Havl2019_supervised`, {cite}`bib_Schuld2019_qmlFHS`. Para más detalles de los métodos kernel, visualice el notebook {ref}`sec_QML_Quantum_Kernels`.\n",
    "\n",
    "::::{figure} imagenes/qsvm_kernel.jpg\n",
    ":name: \"fig_qsvc\"\n",
    ":width: 898\n",
    ":align: center\n",
    "Flujo de trabajo del QSVC\n",
    "::::\n",
    "\n",
    "El QSVC corresponde en varios pasos como se visualiza en la  {numref}`fig_qsvc`:\n",
    "1. La generación de un kernel cuántico, $K$:\n",
    "    1. Mapeo de cada dato clásico, $\\mathbf{x_{i}}$, en un estado cuántico $\\vert \\Phi{(\\mathbf{x_{i}})} \\rangle$. Esto se puede lograr con el circuito cuántico $\\mathcal{U}_{\\Phi{(\\mathbf{x_{i}})}}$,  $\\mathcal{U}_{\\Phi{(\\mathbf{x_{i}})}} \\vert 0^{\\otimes N} \\rangle = \\vert \\Phi{(\\mathbf{x_{i}})} \\rangle$, donde el valor inicial de cada qubit es $\\ket{0}$ y $N$ es el número de características o *qubits*. \n",
    "    2. Obtención de la matriz del kernel, cada elemento de la matriz del kernel se calcula,  $K_{i,j} = |\\braket{\\Phi(\\mathbf{x_{i}})}{\\Phi(\\mathbf{x_{j}})}|^2 = |\\bra{0^{\\otimes N}} \\mathcal{U}^\\dagger_{ \\Phi(\\mathbf{x_{i}})} \\mathcal{U}_{ \\Phi{(\\mathbf{x_{j}})}} \\ket{0^{\\otimes N}}|^2 $ donde $i,j = 0...M$ y $M$ es el número de vectores de características en el conjunto de datos. $K_{i,j}$ se interpreta como una *medida de similitud* o *de distancia* entre *estados cuánticos*.\n",
    "2. Se aplica la matriz de kernel en el algoritmo de SVC clásico para entrenar y obtener la predicción.  "
   ]
  },
  {
   "cell_type": "markdown",
   "metadata": {},
   "source": [
    "(sec_EjemploQSVC)= \n",
    "### 4.2.1. Ejemplo de QSVM en Qibo"
   ]
  },
  {
   "cell_type": "markdown",
   "metadata": {},
   "source": [
    "El ejemplo se basa en un tutorial de pennylane {cite}`bib_pennylane_kernel`. En este, se usará el SVM de la librería *scikit-learn*, *sklearn*. La interfaz permite proporcionar kernel adicional en dos formas:\n",
    "1. La función que calcula la matriz del kernel. \n",
    "    - (kernel= nombrefunción)\n",
    "2. La matriz del kernel calculada. \n",
    "    - (kernel=\"precomputed\")  \n",
    "\n",
    "En el ejemplo, se aplicará la primera forma, facilitando la función que calcula la matriz del kernel. A su vez, el famoso conjunto de datos, *Iris*, {cite}`bib_fisher1936_iris`. Este conjunto de datos, que data de 1936, consta de 150 muestras de cuatro características cada una y da lugar a un problema de clasificación y se utilizará solo las primeras 100 muestras. \n",
    "\n",
    "\n",
    "Se cargan las librerías necesarias:"
   ]
  },
  {
   "cell_type": "code",
   "execution_count": 9,
   "metadata": {},
   "outputs": [
    {
     "name": "stderr",
     "output_type": "stream",
     "text": [
      "[Qibo 0.1.12.dev0|INFO|2024-02-14 15:58:20]: Using numpy backend on /CPU:0\n"
     ]
    }
   ],
   "source": [
    "\n",
    "import numpy as np \n",
    "import matplotlib.pyplot as plt\n",
    "\n",
    "# librería con SVM\n",
    "from sklearn import svm\n",
    "\n",
    "# Carga el conjunto de datos y algunas funciones adicionales\n",
    "from sklearn.datasets import load_iris\n",
    "from sklearn.preprocessing import StandardScaler\n",
    "from sklearn.model_selection import train_test_split\n",
    "from sklearn.metrics import accuracy_score\n",
    "\n",
    "# Librería cuántico (Qibo)\n",
    "import qibo\n",
    "from qibo import gates\n",
    "from qibo.models import Circuit\n",
    "\n",
    "#Uso de backend de numpy en Qibo\n",
    "qibo.set_backend(\"numpy\")\n"
   ]
  },
  {
   "cell_type": "markdown",
   "metadata": {},
   "source": [
    "Se carga el conjunto de datos, $X$, se seleccionan las primeras 100 muestras y luego se adaptan los datos aplicando un escalado periódico mediante la codificación a datos cuánticos. Este proceso implica la transformación de los datos a la distribución normal estándar, también conocida como la *distribución Z*.\n",
    "\n",
    "A su vez, el conjunto de datos se divide en dos grupos: \n",
    "* Entrenamiento\n",
    "* Testeo    "
   ]
  },
  {
   "cell_type": "code",
   "execution_count": 10,
   "metadata": {},
   "outputs": [],
   "source": [
    "X, y = load_iris(return_X_y=True)\n",
    "\n",
    "# Se selecciona solo la dos primeras clases del conjunto \n",
    "# de datos debido a que el clasificador es binario\n",
    "X = X[:100]\n",
    "y = y[:100]\n",
    "\n",
    "# Escalar los datos a distribución normal estándar debido a la \n",
    "# codificación datos es periódica\n",
    "scaler = StandardScaler().fit(X)\n",
    "X_scaled = scaler.transform(X)\n",
    "\n",
    "# Escalar las etiquetas a -1 y 1 debido que es importante para SVM\n",
    "y_scaled = 2 * (y - 0.5)\n",
    "\n",
    "# Se divide en entrenamiento y testeo\n",
    "X_train, X_test, y_train, y_test = train_test_split(X_scaled, y_scaled)"
   ]
  },
  {
   "cell_type": "markdown",
   "metadata": {},
   "source": [
    "La codificación de los datos clásicos a estados cuánticos se llevará a cabo mediante la codificación en ángulo, utilizando puertas de rotación. Para obtener más detalles sobre la codificación cuántica, consulte el notebook {ref}`sec_QML_FeatureEncoding`. En el ejemplo, se aplica la puerta de rotación en el eje Y para codificar los datos clásicos en estados cuánticos. Esta puerta no introduce componentes imaginarias.\n",
    "\n",
    "Dado que cada vector de características consta de cuatro características, se necesitarán cuatro qubits para codificar los estados cuánticos, por lo tanto, $N = 4$.\n",
    "\n",
    "Para estimar la distancia entre dos estados cuánticos, es decir, el producto escalar, se aplica el **test invertido** o **quantum kernel estimation** {cite}`bib_Havl2019_supervised`. Para obtener más detalles sobre los kernels, consulte el notebook {ref}`sec_QML_Quantum_Kernels`. En el ejemplo, el circuito cuántico representa el cálculo de la distancia entre dos estados cuánticos como $K_{i,j} = |\\braket{\\Phi(\\mathbf{x_{i}})}{\\Phi(\\mathbf{x_{j}})}|^2 = |\\bra{0^{\\otimes N}} \\mathcal{U}^\\dagger_{ \\Phi(\\mathbf{x_{i}})} \\mathcal{U}_{ \\Phi{(\\mathbf{x_{j}})}} \\ket{0^{\\otimes N}}|^2 $. El estado cuántico resultante $\\ket{\\phi}$ se mide con respecto al estado computacional $\\ket{0^{\\otimes N}}$, y el resultado es la probabilidad $|\\braket {0^{\\otimes N}} {\\phi}|^2$ de observar la base computacional $\\ket{0^{\\otimes N}}$ del estado cuántico actual $\\ket{\\phi}$. Este cálculo se basa en las **reglas de Born** {cite}`bib_bornrule`.\n",
    "\n",
    "Para obtener las probabilidades en la base computacional $\\ket{0^{\\otimes N}}$ en una computadora cuántica, el circuito cuántico debe ser ejecutado varias veces o shots. Según el artículo *Supervised learning with quantum-enhanced feature spaces* {cite}`bib_Havl2019_supervised`, el circuito debería ejecutarse 50000 veces. En el ejemplo, se usa 8000 por limitación del computador cuántico.\n",
    "\n"
   ]
  },
  {
   "cell_type": "code",
   "execution_count": 11,
   "metadata": {},
   "outputs": [],
   "source": [
    "# kernel cuántico\n",
    "def distancia_circuit(x,y):\n",
    "    \n",
    "    # cuatro cúbits: cuatro características\n",
    "    n_qubits = len(X_train[0]) \n",
    "    n_shots = 8000\n",
    "\n",
    "    # Create an empty circuit\n",
    "    circuit = Circuit(n_qubits)\n",
    "\n",
    "    # Codificación cuántica en puertas RY \n",
    "    for pos in range(n_qubits):\n",
    "        circuit.add(gates.RY(pos, y[pos]))\n",
    "        circuit.add(gates.RY(pos, x[pos]).dagger())\n",
    "        circuit.add(gates.M(pos))\n",
    "\n",
    "    # ejecución del circuito n veces (n_shots)\n",
    "    result = circuit.execute(nshots=n_shots)\n",
    "    # Devuelve las probabilidades analíticas\n",
    "    return result.probabilities()\n",
    "       \n",
    "# Se devuelve el probabilidad del base computacional \"0000\"\n",
    "kernel = lambda x1, x2: distancia_circuit(x1, x2)[0]"
   ]
  },
  {
   "cell_type": "markdown",
   "metadata": {},
   "source": [
    "Se verifica que el kernel cuántico funciona correctamente con el vector de características $\\mathbf{x}$ consigo mismo. El resultado debería ser 1, es decir, la probabilidad del estado inicial $\\ket{\\phi}{\\text{inicial}} = \\ket{0^N}$ es igual a la probabilidad del estado final $\\ket{\\phi}{\\text{final}} = \\ket{0^N}$."
   ]
  },
  {
   "cell_type": "code",
   "execution_count": 12,
   "metadata": {},
   "outputs": [
    {
     "data": {
      "text/plain": [
       "1.0"
      ]
     },
     "execution_count": 12,
     "metadata": {},
     "output_type": "execute_result"
    }
   ],
   "source": [
    "x = np.array([np.pi/2,np.pi/2,np.pi/2,np.pi/2])\n",
    "kernel(x,x)"
   ]
  },
  {
   "cell_type": "markdown",
   "metadata": {},
   "source": [
    "Se define una función que calcula una matriz de kernel para los vectores de características en dos conjuntos de datos diferentes $A, B$. Si $A=B$, la matriz del kernel es conocida como la **matriz de Gram** {cite}`bib_barth1999_gram`."
   ]
  },
  {
   "cell_type": "code",
   "execution_count": 13,
   "metadata": {},
   "outputs": [],
   "source": [
    "def kernel_matrix(A, B):\n",
    "    return np.array([[kernel(a, b) for b in B] for a in A])"
   ]
  },
  {
   "cell_type": "markdown",
   "metadata": {},
   "source": [
    "Para el entrenamiento, se inicializa el clasificador SVC con la matriz del kernel cuántico."
   ]
  },
  {
   "cell_type": "code",
   "execution_count": 14,
   "metadata": {},
   "outputs": [
    {
     "name": "stdout",
     "output_type": "stream",
     "text": [
      "Entrenando...\n"
     ]
    }
   ],
   "source": [
    "# Inicialización\n",
    "qsvm = svm.SVC(kernel=kernel_matrix)\n",
    "\n",
    "print(\"Entrenando...\")\n",
    "qsvm = qsvm.fit(X_train, y_train)\n",
    "\n",
    "print(\"Entrenado!\")"
   ]
  },
  {
   "cell_type": "markdown",
   "metadata": {},
   "source": [
    "Se calcula la precisión en la clasificación con el conjunto de datos de test."
   ]
  },
  {
   "cell_type": "code",
   "execution_count": 15,
   "metadata": {},
   "outputs": [
    {
     "name": "stdout",
     "output_type": "stream",
     "text": [
      "Precisión con test...\n"
     ]
    },
    {
     "data": {
      "text/plain": [
       "1.0"
      ]
     },
     "execution_count": 15,
     "metadata": {},
     "output_type": "execute_result"
    }
   ],
   "source": [
    "#test\n",
    "print(\"Precisión con test...\")\n",
    "\n",
    "predictions = qsvm.predict(X_test)\n",
    "accuracy_score(predictions, y_test)"
   ]
  },
  {
   "cell_type": "markdown",
   "metadata": {},
   "source": [
    "Se compara el resultado con un SVM clásico con kernel lineal"
   ]
  },
  {
   "cell_type": "code",
   "execution_count": 16,
   "metadata": {},
   "outputs": [
    {
     "name": "stdout",
     "output_type": "stream",
     "text": [
      "Precisión con test...\n"
     ]
    },
    {
     "data": {
      "text/plain": [
       "1.0"
      ]
     },
     "execution_count": 16,
     "metadata": {},
     "output_type": "execute_result"
    }
   ],
   "source": [
    "modelclasico = svm.SVC(kernel=\"linear\")\n",
    "modelclasico.fit(X_train, y_train)\n",
    "\n",
    "print(\"Precisión con test...\")\n",
    "\n",
    "predictions = modelclasico.predict(X_test)\n",
    "accuracy_score(predictions, y_test)\n"
   ]
  },
  {
   "cell_type": "markdown",
   "metadata": {},
   "source": [
    "<a id='4notacion'></a>\n",
    "::::::{admonition} Nota (Anexo notación) \n",
    ":class: note\n",
    "\n",
    "\n",
    "\n",
    "Para que la comprensión de los notebooks sea mejor se ha unificado la notación utilizada en los mismos. Para diferenciar un vector de un valor único se hará uso de la negrita. De manera que $\\mathbf{x}$ corresponde a un vector y $z$ será una variable de una única componente. \n",
    "\n",
    "    \n",
    "Si se quiere hacer referencia a dos vectores distintos pero que pertenecen al mismo *dataset* se utilizará un subíndice, es decir, $\\mathbf{x_i}$ hará referencia al i-ésimo vector del dataset. Si se quiere referenciar una característica concreta del vector se añadirá un nuevo subíndice, de manera que $\\mathbf{x_{i_j}}$ hará referencia a la j-ésima variable del i-ésimo vector.\n",
    "\n",
    "::::::\n"
   ]
  },
  {
   "cell_type": "markdown",
   "metadata": {},
   "source": []
  },
  {
   "cell_type": "markdown",
   "metadata": {},
   "source": [
    "---\n",
    "Autores:\n",
    "\n",
    "Carmen Calvo ([SCAYLE](https://www.scayle.es/)), Antoni Alou ([PIC](https://www.pic.es/)), Carlos Hernani ([UV](https://www.uv.es/)), Nahia Iriarte ([NASERTIC](https://www.nasertic.es/es)) y Carlos Luque ([IAC](https://www.iac.es/))\n",
    "\n",
    "<img src=\"images/LOGO-SCAILE.png\"  width=\"140px\">\n",
    "<img src=\"images/Logo_pic.png\" width=\"140px\">\n",
    "<img src=\"images/Logo_UV.jpg\" width=\"160px\">\n",
    "<img src=\"images/Logo_Nasertic.png\" width=\"160px\">\n",
    "<img src=\"images/Logo_IAC.jpg\" width=\"160px\">\n",
    "\n",
    "---\n",
    "::::{figure} https://quantumspain-project.es/wp-content/uploads/2022/11/Logo_QS_EspanaDigital.png\n",
    ":width: 2000px\n",
    ":align: center\n",
    "::::\n",
    "\n",
    "<center>\n",
    "<a rel=\"license\" href=\"http://creativecommons.org/licenses/by-sa/4.0/\">\n",
    "<img aling=\"left\" alt=\"Licencia Creative Commons\" style=\"border-width:0\" src=\"https://i.creativecommons.org/l/by-sa/4.0/88x31.png\" /></a>\n",
    "</center>\n",
    "\n",
    "License: <a rel=\"license\" href=\"http://creativecommons.org/licenses/by-sa/4.0/\">Licencia Creative Commons Atribución-CompartirIgual 4.0 Internacional</a>.\n",
    "\n",
    "This work has been financially supported by the Ministry for Digital Transformation and of Civil Service of the Spanish Government through the QUANTUM ENIA project call - Quantum Spain project, and by the European Union through the Recovery, Transformation and Resilience Plan - NextGenerationEU within the framework of the Digital Spain 2026 Agenda.\n",
    "\n",
    "<center>\n",
    "<img align=\"left\" src=\"https://quantumspain-project.es/wp-content/uploads/2024/02/Banner-QS_GOB_v2.png\" width=\"1000px\" />\n",
    "</center>"
   ]
  }
 ],
 "metadata": {
  "kernelspec": {
   "display_name": "Python 3 (ipykernel)",
   "language": "python",
   "name": "python3"
  },
  "language_info": {
   "codemirror_mode": {
    "name": "ipython",
    "version": 3
   },
   "file_extension": ".py",
   "mimetype": "text/x-python",
   "name": "python",
   "nbconvert_exporter": "python",
   "pygments_lexer": "ipython3",
   "version": "3.11.7"
  },
  "toc": {
   "base_numbering": 1,
   "nav_menu": {},
   "number_sections": false,
   "sideBar": true,
   "skip_h1_title": true,
   "title_cell": "Table of Contents",
   "title_sidebar": "Contents",
   "toc_cell": false,
   "toc_position": {},
   "toc_section_display": true,
   "toc_window_display": false
  },
  "vscode": {
   "interpreter": {
    "hash": "e8edca44e8d84eb6663382c0430fc4eb903083b0f428b9d0b350f19027e85790"
   }
  }
 },
 "nbformat": 4,
 "nbformat_minor": 2
}