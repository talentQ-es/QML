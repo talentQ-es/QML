{
 "cells": [
  {
   "cell_type": "markdown",
   "id": "0ec3d300",
   "metadata": {},
   "source": [
    "> May 03, 2024 | {sub-ref}`wordcount-minutes` min read\n",
    "\n",
    "\n",
    "$ \\newcommand{\\bra}[1]{\\langle #1|} $\n",
    "$ \\newcommand{\\ket}[1]{|#1\\rangle} $\n",
    "$ \\newcommand{\\braket}[2]{\\langle #1|#2\\rangle} $\n",
    "$ \\newcommand{\\ketbra}[2]{| #1\\rangle \\langle #2|} $\n",
    "$ \\newcommand{\\i}{{\\color{blue} i}} $ \n",
    "$ \\newcommand{\\Hil}{{\\mathbb H}} $\n",
    "$ \\newcommand{\\boldn}{{\\bf n}} $\n",
    "$ \\newcommand{\\tr}{{\\rm tr}}$\n",
    "$ \\newcommand{\\bn}{{\\bf n}} $"
   ]
  },
  {
   "cell_type": "markdown",
   "id": "b3878b6e",
   "metadata": {},
   "source": [
    "Consulta la notación que se ha utilizado durante todo el documento en el siguiente [enlace](#2notacion)."
   ]
  },
  {
   "cell_type": "markdown",
   "id": "e0bc540a",
   "metadata": {},
   "source": [
    "(sec_QML_FeatureEncoding)= \n",
    "\n",
    "# 2. Feature encoding"
   ]
  },
  {
   "cell_type": "markdown",
   "id": "b2cd4b48",
   "metadata": {},
   "source": [
    "\n",
    "Esta sección se centra en el proceso de **codificación de caracteristicas** o **feature encoding**, se encarga de codificar datos clásicos en estados cuánticos. Es un parte muy delicada en procesamiento de la información cuántica debido a que te dará el mapa que proyectará tus datos clásicos en el espacio de hilbert.\n"
   ]
  },
  {
   "cell_type": "markdown",
   "id": "eb92a11f-5cc5-4e3d-8865-5d550aa089cc",
   "metadata": {
    "slideshow": {
     "slide_type": "slide"
    }
   },
   "source": [
    "::::::{admonition} Nota\n",
    ":class: note\n",
    "\n",
    "\n",
    "<i>Dependiendo de cómo esté proyectado este conjunto de datos en el espacio de Hilbert, el tratamiento que se le tendrá que hacer para extraer información será muy simple o, si no se hace adecuadamente, imposible.</i>\n",
    "\n",
    "::::::\n"
   ]
  },
  {
   "cell_type": "markdown",
   "id": "4c6c3f72-99e0-41f3-8be4-ed60cb779938",
   "metadata": {},
   "source": [
    "\n",
    "Se empieza con un conjunto de datos $\\mathbf{x}$ y se quiere codificar en un estado $\\ket{\\psi_x}$ con el que trabajar, para ello se construye un circuito parametrizado que generará una unitaria $\\mathcal{U}(\\mathbf{x})$ tal que $\\ket{\\psi_x}=\\mathcal{U}(\\mathbf{x})\\ket{0}$. Dependiendo del tipo de feature encoding que se utilice, la unitaria $\\mathcal{U}(x)$ tendrá diferentes características.\n",
    "\n",
    "Se define un conjunto de datos (dataset) de entrada $D$ de dimensión $M$ x $N$, es decir, se cuenta con un dataset con M instancias y N variables. Este dataset se puede expresar como $D = {\\mathbf{x}_{(1)}, ..., \\mathbf{x}_{(m)}, ..., \\mathbf{x}_{(M)}}$ donde cada $\\mathbf{x}_{(m)}$ es un vector de dimensión N.\n",
    "\n",
    "Hay multiples técnicas de **feature encoding**, a continuación se explicarán las más básicas y se dará un ejemplo de cómo implementar cada una. Para más detalles consultar{cite}`bib_lloyd2020`,{cite}`bib_schuld2018`."
   ]
  },
  {
   "cell_type": "markdown",
   "id": "b3b24332",
   "metadata": {},
   "source": [
    "<a id='BasisEncoding'></a>\n",
    "### 2.1. Basis encoding"
   ]
  },
  {
   "cell_type": "markdown",
   "id": "441095cd",
   "metadata": {},
   "source": [
    "La técnica *Basis encoding*, también conocida como Basis Embedding, asocia cada elemento del dataset a un estado de la base computacional de un sistema de qubits. Es por eso que los datos clásicos deben estar representados por una cadena de bits de longitud equivalente al número de qubits del circuito. Esto da una correspondencia uno a uno entre elementos del dataset y vectores de la base computacional del espacio de Hilbert.\n",
    "\n",
    "Se considera el conjunto de datos $D$, definido anteriormente. Asumimos por simplicidad que podemos codificar las $N$ características con un número binario de longitud $N$, tal que $\\mathbf{x}_m = (b_1,...,b_N)$ con $b_i\\in { 0,1}$ para $i=1,...,N$. De esta manera, cada elemento del conjunto de datos $\\mathbf{x}_{m}$ se puede representar como $\\ket{\\mathbf{x}_{m}}$. Extendiendo la expresión anterior a todo el dataset, obtenemos la representación del conjunto de datos al completo tal que:\n",
    "\n",
    "$$\\ket{D} = \\frac{1}{\\sqrt M} \\sum^M_{m=1} \\ket{\\mathbf{x}_{m}}$$"
   ]
  },
  {
   "cell_type": "markdown",
   "id": "86b5e241",
   "metadata": {},
   "source": [
    "Por ejemplo, si consideramos que el *dataset* $ D=\\{1,3,5,7\\} $ los datos en binario corresponden a $ D=\\{001,011,101,111\\} $. En este caso, el estado correspondiente sería:\n",
    "\n",
    "$$\\ket{D} = \\frac{1}{\\sqrt{4}}(\\ket{001}+\\ket{011}+\\ket{101}+\\ket{111})$$\n",
    "\n",
    "Que como vector en la base computacional corresponde a $\\vec{x}=\\frac{1}{2}(0,1,0,1,0,1,0,1)$.\n"
   ]
  },
  {
   "cell_type": "code",
   "execution_count": 16,
   "id": "aa4fd7f3",
   "metadata": {},
   "outputs": [],
   "source": [
    "import numpy as np\n",
    "import qibo\n",
    "import matplotlib.pyplot as plt\n",
    "from qibo import callbacks, gates, hamiltonians, models\n",
    "from qibo.symbols import Y, Z, I\n",
    "from qibo.models import Circuit"
   ]
  },
  {
   "cell_type": "code",
   "execution_count": 4,
   "id": "d0476962",
   "metadata": {},
   "outputs": [],
   "source": [
    "# Número de qubits de nuestro ejemplo\n",
    "num_q=3 "
   ]
  },
  {
   "cell_type": "markdown",
   "id": "78de55ff-38ae-4708-afbc-66067ff2c0eb",
   "metadata": {
    "slideshow": {
     "slide_type": "slide"
    }
   },
   "source": [
    "::::::{admonition} Nota\n",
    ":class: note\n",
    "\n",
    "\n",
    "<i>El circuito que codifica el dataset entero no es trivial y se debe hacer a mano. Aun así para muchas aplicaciones no es necesario codificar el dataset entero y se puede pasar los elemenotos del mismo de uno a uno. La función <b>Basis_encoding</b> codifica un elemento del dataset en el circuito.</i>\n",
    "\n",
    "::::::\n"
   ]
  },
  {
   "cell_type": "code",
   "execution_count": 5,
   "id": "d5cdc95a-983b-497b-8d43-a45e2060d9a9",
   "metadata": {
    "tags": []
   },
   "outputs": [],
   "source": [
    "# Funcion que codifica 1 vector binario x ens el estado |x>\n",
    "\n",
    "def Basis_encoding(x, nqubits= 2): \n",
    "    c= Circuit(nqubits=nqubits)\n",
    "    \n",
    "    for i in range(nqubits):\n",
    "        if x[i]==1:\n",
    "            c.add(gates.X(q=i))\n",
    "    return c"
   ]
  },
  {
   "cell_type": "code",
   "execution_count": 6,
   "id": "1b289632",
   "metadata": {},
   "outputs": [
    {
     "name": "stdout",
     "output_type": "stream",
     "text": [
      "x               :  [0.  0.5 0.  0.5 0.  0.5 0.  0.5]\n",
      "amplitude vector:  [0. +0.j 0.5+0.j 0. +0.j 0.5+0.j 0. +0.j 0.5+0.j 0. +0.j 0.5+0.j]\n",
      "q0: ─H─\n",
      "q1: ─H─\n",
      "q2: ─X─\n"
     ]
    }
   ],
   "source": [
    "x = 0.5*np.array([0,1,0,1,0,1,0,1])\n",
    "c_b=Circuit(num_q)\n",
    "c_b.add(gates.H(q=0))\n",
    "c_b.add(gates.H(q=1))\n",
    "c_b.add(gates.X(q=2))\n",
    "\n",
    "\n",
    "print(\"x               : \", x)\n",
    "print(\"amplitude vector: \", np.array(c_b.execute().state()))\n",
    "print(c_b.draw())"
   ]
  },
  {
   "cell_type": "markdown",
   "id": "e680e87f",
   "metadata": {},
   "source": [
    "<a id='AmplitudeEncoding'></a>\n",
    "### 2.2. Amplitude encoding"
   ]
  },
  {
   "cell_type": "markdown",
   "id": "03b50cec",
   "metadata": {},
   "source": [
    "La técnica *Amplitude encoding* o *amplitude embedding*, codifica los datos clásicos como las amplitudes del vector de un estado cuántico. En este caso, un elemento $\\mathbf{x_m}=(b_0,...b_N)$ del conjunto de datos $D$ con $N$ características se codifica en un sistema de $2^n=N$ qubits tal que:\n",
    "\n",
    "$$ \\ket{\\psi_x} = \\sum^N_{i=1} b_i\\ket{i}$$   \n",
    "\n",
    "Donde $b_i$ es el i-ésimo elemento del vector $\\mathbf{x_m}$ y $\\ket{i}$ es el i-ésimo estado de la base computacional. A diferencia de la técnica *basis encoding*, $x_i$ puede tomar valores de distintos tipos, como *integer* (valores enteros) o *float* (valores de coma flotante).\n"
   ]
  },
  {
   "cell_type": "markdown",
   "id": "968442b8",
   "metadata": {},
   "source": [
    "Como ejemplo, si tratamos de codificarel vector $\\mathbf{x}=(1,3,5,7)$\n",
    "utilizando esta técnica obtendremos:\n",
    "\n",
    "$$\\ket{\\psi_x} = \\frac{1}{2\\sqrt{21}} [1\\ket{00}+3\\ket{01}+5\\ket{10}+7\\ket{11}]$$"
   ]
  },
  {
   "cell_type": "markdown",
   "id": "2fcc369d-34e8-404a-a51e-f03943e572a7",
   "metadata": {
    "slideshow": {
     "slide_type": "slide"
    }
   },
   "source": [
    "::::::{admonition} Nota\n",
    ":class: note\n",
    "\n",
    "\n",
    "<i>Hay que tener en cuenta que todos los vectores cuánticos deben estar siempre normalizados, $\\bra{\\psi_x}\\ket{\\psi_x} = 1$</i>\n",
    "\n",
    "::::::\n"
   ]
  },
  {
   "cell_type": "code",
   "execution_count": 7,
   "id": "762c0ec8",
   "metadata": {},
   "outputs": [],
   "source": [
    "num_q=2"
   ]
  },
  {
   "cell_type": "code",
   "execution_count": 8,
   "id": "bea331d3-2369-4763-b90c-67484fa26002",
   "metadata": {
    "tags": []
   },
   "outputs": [],
   "source": [
    "def Normalize(x):\n",
    "    N=np.linalg.norm(x)\n",
    "    return 1/N*x"
   ]
  },
  {
   "cell_type": "code",
   "execution_count": 9,
   "id": "54d87515",
   "metadata": {},
   "outputs": [
    {
     "name": "stdout",
     "output_type": "stream",
     "text": [
      "x               :  [1 3 5 7]\n",
      "amplitude vector:  [0.10910895+0.j 0.32732684+0.j 0.54554473+0.j 0.76376262+0.j]\n",
      "q0: ─\n",
      "q1: ─\n"
     ]
    }
   ],
   "source": [
    "x = np.array([1,3,5,7])\n",
    "\n",
    "# Normalizamos x\n",
    "x_norm=Normalize(x)\n",
    "\n",
    "# No hay una funcion para ejecutar el circuito que codifica el estado x en la amplitud pero podemos inizializar con un estado arbitrario el circuito en qibo.\n",
    "c_a = Circuit(num_q)\n",
    "\n",
    "print(\"x               : \", x)\n",
    "print(\"amplitude vector: \", np.array(c_a(x_norm,nshots=10000).state()))\n",
    "print(c_a.draw())"
   ]
  },
  {
   "cell_type": "markdown",
   "id": "45146dcd",
   "metadata": {},
   "source": [
    "Para codificar un vector arbitrario en las amplitudes de un estado cuántico con el mínimo número de puertas cuánticas hay que utilizar los resultados de {cite}`bib_mottonen2004`. Una implementación de este método en qibo todavía no está desarrollada. Por esa razon de momento se pasa el vector cuántico explicitamente.\n"
   ]
  },
  {
   "cell_type": "markdown",
   "id": "87bb3963",
   "metadata": {},
   "source": [
    "### 2.3. Angle encoding"
   ]
  },
  {
   "cell_type": "markdown",
   "id": "1cf1421e",
   "metadata": {},
   "source": [
    "*Angle encoding* es la tecnica de codificación más fácil de implementar debido a que utiliza las puertas parametrizadas más basicas para ello. Las N características de los elementos del *dataset* se codifican como ángulos de rotación de N cúbits. Esta metodología codifica N características en un ángulos de rotación de N qubits. Dichas rotaciones pueden llevarse a cabo en cualquier eje, tanto en el $X$, como en el $Y$ o en el $Z$. Mas explicitamente si queremos codificar el vector del conjuto de datos $\\mathbf{x_m}=(x_1,...,x_N)$ con rotaciones en el eje $X$ el estado cuántico resultante sería: \n",
    "\n",
    "$$\n",
    "\\ket {\\mathbf{x}} = \\bigotimes^N_{i=1} \\cos(x_i)\\ket 0 + \\sin(x_i)\\ket 1\n",
    "$$\n",
    "\n"
   ]
  },
  {
   "cell_type": "markdown",
   "id": "c19b3c2d",
   "metadata": {},
   "source": [
    "Por ejemplo, si se trata de codificar el vector $\\mathbf{x}=(1,3,5,7)$ con este tipo de *encoding*, se necesitarán cuatro cúbits y quedará como sigue: \n",
    "\n",
    "$$\n",
    "\\ket{\\mathbf{x}} = (\\cos(1)\\ket{0} + \\sin(1)\\ket{1} ) \\otimes (\\cos(3)\\ket{0} + \\sin(3)\\ket{1}) \\otimes (\\cos(5)\\ket{0} + \\sin(5)\\ket{1}) \\otimes (\\cos(7)\\ket{0} + \\sin(7)\\ket{1} )\n",
    "$$\n"
   ]
  },
  {
   "cell_type": "code",
   "execution_count": 10,
   "id": "676afe81",
   "metadata": {},
   "outputs": [],
   "source": [
    "num_q=4"
   ]
  },
  {
   "cell_type": "code",
   "execution_count": 11,
   "id": "e435838c",
   "metadata": {},
   "outputs": [],
   "source": [
    "def Angle(x,nqubits):\n",
    "    c= Circuit(nqubits=nqubits)\n",
    "    \n",
    "    for i in range(nqubits):\n",
    "        c.add(gates.RX(q=i,theta=x[i]))\n",
    "    return c"
   ]
  },
  {
   "cell_type": "code",
   "execution_count": 12,
   "id": "46414995",
   "metadata": {},
   "outputs": [
    {
     "name": "stdout",
     "output_type": "stream",
     "text": [
      "x               :  [1 3 5 7]\n",
      "amplitude vector:  [ 0.04657297+0.j          0.        -0.01744557j  0.        +0.03479105j\n",
      "  0.01303223+0.j          0.        -0.656745j   -0.24600725+0.j\n",
      "  0.49060316+0.j          0.        -0.1837729j   0.        -0.02544293j\n",
      " -0.00953056+0.j          0.01900644+0.j          0.        -0.00711954j\n",
      " -0.35878143+0.j          0.        +0.13439437j  0.        -0.26801773j\n",
      " -0.10039559+0.j        ]\n",
      "q0: ─RX─\n",
      "q1: ─RX─\n",
      "q2: ─RX─\n",
      "q3: ─RX─\n"
     ]
    }
   ],
   "source": [
    "x = np.array([1,3,5,7])\n",
    "\n",
    "c_an=Angle(x,num_q)\n",
    "\n",
    "print(\"x               : \", x)\n",
    "print(\"amplitude vector: \", np.array(c_an.execute().state()))\n",
    "print(c_an.draw())"
   ]
  },
  {
   "cell_type": "markdown",
   "id": "cbb2f580",
   "metadata": {},
   "source": [
    "<a id='DenseAngleEncoding'></a>\n",
    "### 2.2.4. Dense angle encoding"
   ]
  },
  {
   "cell_type": "markdown",
   "id": "0471976d",
   "metadata": {},
   "source": [
    "Esta técnica, tal como su nombre indica, es una versión más sofisticada de la codificación anterior. Es capaz de codificar dos características por cada *qubit*, haciendo uso de fases relativas. En este caso, la instancia $\\mathbf{x}=(x_1,...,x_N)$ se codifica como sigue:\n",
    "\n",
    "$$\n",
    "\\ket{x} = \\bigotimes^{N/2}_{i=1} \\cos(x_{2i-1})\\ket{0} + e^{ix_{2i}}\\sin(x_{2i-1})\\ket{1}\n",
    "$$\n"
   ]
  },
  {
   "cell_type": "markdown",
   "id": "717dc6ae-c429-44d9-89ec-8402908985cb",
   "metadata": {
    "slideshow": {
     "slide_type": "slide"
    }
   },
   "source": [
    "::::::{admonition} Nota\n",
    ":class: note\n",
    "\n",
    "\n",
    "Angle encoding necesita $num \\, qubits = \\text{dim}(\\mathbf{x})$, mientras que dense angle requiere $num \\, qubits = \\text{dim}(\\mathbf{x})/2$. Aun así, hay aplicaciones donde la simplicidad de angle encoding es preferible.\n",
    "\n",
    "::::::\n"
   ]
  },
  {
   "cell_type": "markdown",
   "id": "ad43b67e-3b07-4828-b0d8-e7825ecb33c6",
   "metadata": {},
   "source": [
    "Por ejemplo, si se trata de codificar el vector $\\mathbf{x}=(1,3,5,7)$ con este tipo de *encoding*, se necesitarán dos cúbits y quedará como sigue: \n",
    "\n",
    "$$\n",
    "\\ket{\\mathbf{x}} = (\\cos(1)\\ket{0} + e^{i3}\\sin(1)\\ket{1} ) \\otimes (\\cos(5)\\ket{0} + e^{i7}\\sin(5)\\ket{1})\n",
    "$$\n"
   ]
  },
  {
   "cell_type": "code",
   "execution_count": 13,
   "id": "30c8eea7-c7fe-4e9d-b1e8-5b06ffad5527",
   "metadata": {},
   "outputs": [],
   "source": [
    "num_q=2"
   ]
  },
  {
   "cell_type": "code",
   "execution_count": 14,
   "id": "fe728d5c-fcb0-4bc0-85b7-b14e83ed935f",
   "metadata": {},
   "outputs": [],
   "source": [
    "def denseAngle(x,nqubits):\n",
    "    c= Circuit(nqubits=nqubits)\n",
    "    \n",
    "    for i in range(nqubits):\n",
    "        c.add(gates.RX(q=i,theta=x[i]))\n",
    "        c.add(gates.RZ(q=i,theta=x[i+1]))\n",
    "    return c"
   ]
  },
  {
   "cell_type": "code",
   "execution_count": 15,
   "id": "13d960ea-ba02-45a0-86b5-e2e924a3ac86",
   "metadata": {},
   "outputs": [
    {
     "name": "stdout",
     "output_type": "stream",
     "text": [
      "x               :  [0 1 2 3]\n",
      "amplitude vector:  [0.06207773-0.87538421j 0.22984885-0.42073549j 0.        +0.j\n",
      " 0.        +0.j        ]\n",
      "q0: ─RX─RZ─\n",
      "q1: ─RX─RZ─\n"
     ]
    }
   ],
   "source": [
    "x = np.array([0,1,2,3])\n",
    "\n",
    "c_dan=denseAngle(x,num_q)\n",
    "\n",
    "print(\"x               : \", x)\n",
    "print(\"amplitude vector: \", np.array(c_dan.execute().state()))\n",
    "print(c_dan.draw())"
   ]
  },
  {
   "cell_type": "markdown",
   "id": "8104df9d",
   "metadata": {},
   "source": [
    "En este apartado se muestran algunas de las técnicas de codificación, no obstante existen otras como *Displacement Embedding*, *IQP Embedding*, *QAOA Embedding*..."
   ]
  },
  {
   "cell_type": "markdown",
   "id": "59aa88cc",
   "metadata": {},
   "source": [
    "<a id='EleccionFeatureEncoding'></a>\n",
    "## 2.3. Cómo escoger Feature Encoding"
   ]
  },
  {
   "cell_type": "markdown",
   "id": "cd4c19db",
   "metadata": {},
   "source": [
    "Cuando se trata con circuitos variacionales, la decisión de qué *feature encoding* utilizar es crucial. Los diferentes *feature encoding* presentan diferentes ventajas e inconvenientes dependiendo del problema que queramos resolver. Las técnicas mencionadas en este notebook se pueden separar en dos tipos:\n",
    "- *Basis encoding* donde se trabaja con los elementos de la base computacional como *inputs* (entradas).\n",
    "- El resto de codificadores que trabajan con las amplitudes del vector cuántico.\n"
   ]
  },
  {
   "cell_type": "markdown",
   "id": "055279cd",
   "metadata": {},
   "source": [
    "La técnica de *basis encoding* presenta la capacidad de calcular operaciones no lineales de forma natural, a cambio es el codificador que presenta mayor número de problemas:\n",
    "\n",
    "- Es el más susceptible a errores.\n",
    "- Escala muy mal con el número de cúbits, ya que de esto depende la precisión de los *feature* que se quiere codificar.\n",
    "- Es el método que presenta mayor dificultad a la hora de entrenar la red neuronal y tiene tendencia a presentar barren plateaus (gradientes que tienden a cero).\n"
   ]
  },
  {
   "cell_type": "markdown",
   "id": "a3a93d0f",
   "metadata": {},
   "source": [
    "El resto de métodos basados en codificar en las amplitudes del vector cuántico no presentan los inconvenientes enumerados anteriormente y son los métodos preferidos para desarrollar algoritmos en la era del NISQ (*Noisy Intermediate-Scale Quantum*). Aún así, presentan el inconveniente de que hay que escoger sabiamente cómo introducir la no linealidad necesaria para cada problema. La forma más genérica es utilizar *Amplitude encoding* y aplicar una función $f(x)$ a tus datos para obtener correlaciones entre ellos y así poder resolver problemas no lineales. Este método, que es a primera vista sencillo, presenta el problema de que la amplitud del circuito puede ser muy grande dependiendo de $f(x)$ y además, escoger $f(x)$ puede ser un proceso muy arbitrario. Por otra parte, otros métodos de codificación más sencillos pueden proporcionar directamente los elementos de no linealidad necesarios para resolver el problema.\n"
   ]
  },
  {
   "cell_type": "markdown",
   "id": "46fcdac2",
   "metadata": {},
   "source": [
    "Para finalizar, existen otras técnicas más sofisticadas para introducir datos clásicos en un circuito variacional, una de ellas es conocida como *data re-uploading* {cite}`bib_salinas2020` el cual se cubrira en el siguiente notebook."
   ]
  },
  {
   "cell_type": "markdown",
   "id": "a3c66607",
   "metadata": {},
   "source": [
    "<a id='2notacion'></a>\n",
    "::::::{admonition} ANEXO NOTACIÓN\n",
    ":class: note\n",
    "\n",
    "\n",
    "Para que la comprensión de los notebooks sea mejor se ha unificado la notación utilizada en los mismos. Para diferenciar un vector de un valor único se hará uso de la negrita. De manera que $\\mathbf{x}$ corresponde a un vector y $z$ será una variable de una única componente. \n",
    "\n",
    "    \n",
    "Si se quiere hacer referencia a dos vectores distintos pero que pertenecen al mismo *dataset* se utilizará un subíndice, es decir, $\\mathbf{x_i}$ hará referencia al i-ésimo vector del dataset. Si se quiere referenciar una característica concreta del vector $\\mathbf{x_i}$ se añadirá un nuevo subíndice, de manera que $\\mathbf{x_{i_j}}$ hará referencia a la j-ésima variable del i-ésimo vector.\n",
    "\n",
    "::::::\n"
   ]
  },
  {
   "cell_type": "markdown",
   "id": "1b42a6f2-9ce6-492d-bae9-4960681cd071",
   "metadata": {},
   "source": []
  },
  {
   "cell_type": "markdown",
   "id": "5d74f55d",
   "metadata": {},
   "source": [
    "---\n",
    "Autores:\n",
    "\n",
    "Carmen Calvo ([SCAYLE](https://www.scayle.es/)), Antoni Alou ([PIC](https://www.pic.es/)), Carlos Hernani ([UV](https://www.uv.es/)), Nahia Iriarte ([NASERTIC](https://www.nasertic.es/es)) y Carlos Luque ([IAC](https://www.iac.es/))\n",
    "\n",
    "<img src=\"images/LOGO-SCAILE.png\"  width=\"140px\">\n",
    "<img src=\"images/Logo_pic.png\" width=\"140px\">\n",
    "<img src=\"images/Logo_UV.jpg\" width=\"160px\">\n",
    "<img src=\"images/Logo_Nasertic.png\" width=\"160px\">\n",
    "<img src=\"images/Logo_IAC.jpg\" width=\"160px\">\n",
    "\n",
    "---\n",
    "::::{figure} https://quantumspain-project.es/wp-content/uploads/2022/11/Logo_QS_EspanaDigital.png\n",
    ":width: 2000px\n",
    ":align: center\n",
    "::::\n",
    "\n",
    "<center>\n",
    "<a rel=\"license\" href=\"http://creativecommons.org/licenses/by-sa/4.0/\">\n",
    "<img aling=\"left\" alt=\"Licencia Creative Commons\" style=\"border-width:0\" src=\"https://i.creativecommons.org/l/by-sa/4.0/88x31.png\" /></a>\n",
    "</center>\n",
    "\n",
    "License: <a rel=\"license\" href=\"http://creativecommons.org/licenses/by-sa/4.0/\">Licencia Creative Commons Atribución-CompartirIgual 4.0 Internacional</a>.\n",
    "\n",
    "This work has been financially supported by the Ministry for Digital Transformation and of Civil Service of the Spanish Government through the QUANTUM ENIA project call - Quantum Spain project, and by the European Union through the Recovery, Transformation and Resilience Plan - NextGenerationEU within the framework of the Digital Spain 2026 Agenda.\n",
    "\n",
    "<center>\n",
    "<img align=\"left\" src=\"https://quantumspain-project.es/wp-content/uploads/2024/02/Banner-QS_GOB_v2.png\" width=\"1000px\" />\n",
    "</center>"
   ]
  }
 ],
 "metadata": {
  "kernelspec": {
   "display_name": "Python 3 (ipykernel)",
   "language": "python",
   "name": "python3"
  },
  "language_info": {
   "codemirror_mode": {
    "name": "ipython",
    "version": 3
   },
   "file_extension": ".py",
   "mimetype": "text/x-python",
   "name": "python",
   "nbconvert_exporter": "python",
   "pygments_lexer": "ipython3",
   "version": "3.11.7"
  },
  "toc": {
   "base_numbering": 1,
   "nav_menu": {},
   "number_sections": false,
   "sideBar": true,
   "skip_h1_title": true,
   "title_cell": "Table of Contents",
   "title_sidebar": "Contents",
   "toc_cell": false,
   "toc_position": {},
   "toc_section_display": true,
   "toc_window_display": false
  }
 },
 "nbformat": 4,
 "nbformat_minor": 5
}