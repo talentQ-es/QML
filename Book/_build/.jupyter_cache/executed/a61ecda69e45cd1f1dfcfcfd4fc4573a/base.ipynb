{
 "cells": [
  {
   "cell_type": "code",
   "execution_count": 1,
   "id": "aa4fd7f3",
   "metadata": {},
   "outputs": [],
   "source": [
    "import numpy as np\n",
    "import qibo\n",
    "import matplotlib.pyplot as plt\n",
    "from qibo import callbacks, gates, hamiltonians, models\n",
    "from qibo.symbols import Y, Z, I\n",
    "from qibo.models import Circuit"
   ]
  },
  {
   "cell_type": "code",
   "execution_count": 2,
   "id": "d0476962",
   "metadata": {},
   "outputs": [],
   "source": [
    "# Número de qubits de nuestro ejemplo\n",
    "num_q=3 "
   ]
  },
  {
   "cell_type": "code",
   "execution_count": 3,
   "id": "d5cdc95a-983b-497b-8d43-a45e2060d9a9",
   "metadata": {
    "tags": []
   },
   "outputs": [],
   "source": [
    "# Funcion que codifica 1 vector binario x ens el estado |x>\n",
    "\n",
    "def Basis_encoding(x, nqubits= 2): \n",
    "    c= Circuit(nqubits=nqubits)\n",
    "    \n",
    "    for i in range(nqubits):\n",
    "        if x[i]==1:\n",
    "            c.add(gates.X(q=i))\n",
    "    return c"
   ]
  },
  {
   "cell_type": "code",
   "execution_count": 4,
   "id": "1b289632",
   "metadata": {},
   "outputs": [
    {
     "name": "stdout",
     "output_type": "stream",
     "text": [
      "x               :  [0.  0.5 0.  0.5 0.  0.5 0.  0.5]\n"
     ]
    },
    {
     "name": "stderr",
     "output_type": "stream",
     "text": [
      "[Qibo 0.1.12.dev0|INFO|2024-06-11 12:05:59]: Using tensorflow backend on /device:CPU:0\n"
     ]
    },
    {
     "name": "stdout",
     "output_type": "stream",
     "text": [
      "amplitude vector:  [0. +0.j 0.5+0.j 0. +0.j 0.5+0.j 0. +0.j 0.5+0.j 0. +0.j 0.5+0.j]\n",
      "q0: ─H─\n",
      "q1: ─H─\n",
      "q2: ─X─\n"
     ]
    }
   ],
   "source": [
    "x = 0.5*np.array([0,1,0,1,0,1,0,1])\n",
    "c_b=Circuit(num_q)\n",
    "c_b.add(gates.H(q=0))\n",
    "c_b.add(gates.H(q=1))\n",
    "c_b.add(gates.X(q=2))\n",
    "\n",
    "\n",
    "print(\"x               : \", x)\n",
    "print(\"amplitude vector: \", np.array(c_b.execute().state()))\n",
    "print(c_b.draw())"
   ]
  },
  {
   "cell_type": "code",
   "execution_count": 5,
   "id": "762c0ec8",
   "metadata": {},
   "outputs": [],
   "source": [
    "num_q=2"
   ]
  },
  {
   "cell_type": "code",
   "execution_count": 6,
   "id": "bea331d3-2369-4763-b90c-67484fa26002",
   "metadata": {
    "tags": []
   },
   "outputs": [],
   "source": [
    "def Normalize(x):\n",
    "    N=np.linalg.norm(x)\n",
    "    return 1/N*x"
   ]
  },
  {
   "cell_type": "code",
   "execution_count": 7,
   "id": "54d87515",
   "metadata": {},
   "outputs": [
    {
     "name": "stdout",
     "output_type": "stream",
     "text": [
      "x               :  [1 3 5 7]\n",
      "amplitude vector:  [0.10910895+0.j 0.32732684+0.j 0.54554473+0.j 0.76376262+0.j]\n",
      "q0: ─\n",
      "q1: ─\n"
     ]
    }
   ],
   "source": [
    "x = np.array([1,3,5,7])\n",
    "\n",
    "# Normalizamos x\n",
    "x_norm=Normalize(x)\n",
    "\n",
    "# No hay una funcion para ejecutar el circuito que codifica el estado x en la amplitud pero podemos inizializar con un estado arbitrario el circuito en qibo.\n",
    "c_a = Circuit(num_q)\n",
    "\n",
    "print(\"x               : \", x)\n",
    "print(\"amplitude vector: \", np.array(c_a(x_norm,nshots=10000).state()))\n",
    "print(c_a.draw())"
   ]
  },
  {
   "cell_type": "code",
   "execution_count": 8,
   "id": "676afe81",
   "metadata": {},
   "outputs": [],
   "source": [
    "num_q=4"
   ]
  },
  {
   "cell_type": "code",
   "execution_count": 9,
   "id": "e435838c",
   "metadata": {},
   "outputs": [],
   "source": [
    "def Angle(x,nqubits):\n",
    "    c= Circuit(nqubits=nqubits)\n",
    "    \n",
    "    for i in range(nqubits):\n",
    "        c.add(gates.RX(q=i,theta=x[i]))\n",
    "    return c"
   ]
  },
  {
   "cell_type": "code",
   "execution_count": 10,
   "id": "46414995",
   "metadata": {},
   "outputs": [
    {
     "name": "stdout",
     "output_type": "stream",
     "text": [
      "x               :  [1 3 5 7]\n",
      "amplitude vector:  [ 0.04657297+0.j          0.        -0.01744557j  0.        +0.03479105j\n",
      "  0.01303223+0.j          0.        -0.656745j   -0.24600725+0.j\n",
      "  0.49060316+0.j          0.        -0.1837729j   0.        -0.02544293j\n",
      " -0.00953056+0.j          0.01900644+0.j          0.        -0.00711954j\n",
      " -0.35878143+0.j          0.        +0.13439437j  0.        -0.26801773j\n",
      " -0.10039559+0.j        ]\n",
      "q0: ─RX─\n",
      "q1: ─RX─\n",
      "q2: ─RX─\n",
      "q3: ─RX─\n"
     ]
    }
   ],
   "source": [
    "x = np.array([1,3,5,7])\n",
    "\n",
    "c_an=Angle(x,num_q)\n",
    "\n",
    "print(\"x               : \", x)\n",
    "print(\"amplitude vector: \", np.array(c_an.execute().state()))\n",
    "print(c_an.draw())"
   ]
  },
  {
   "cell_type": "code",
   "execution_count": 11,
   "id": "30c8eea7-c7fe-4e9d-b1e8-5b06ffad5527",
   "metadata": {},
   "outputs": [],
   "source": [
    "num_q=2"
   ]
  },
  {
   "cell_type": "code",
   "execution_count": 12,
   "id": "fe728d5c-fcb0-4bc0-85b7-b14e83ed935f",
   "metadata": {},
   "outputs": [],
   "source": [
    "def denseAngle(x,nqubits):\n",
    "    c= Circuit(nqubits=nqubits)\n",
    "    \n",
    "    for i in range(nqubits):\n",
    "        c.add(gates.RX(q=i,theta=x[i]))\n",
    "        c.add(gates.RZ(q=i,theta=x[i+1]))\n",
    "    return c"
   ]
  },
  {
   "cell_type": "code",
   "execution_count": 13,
   "id": "13d960ea-ba02-45a0-86b5-e2e924a3ac86",
   "metadata": {},
   "outputs": [
    {
     "name": "stdout",
     "output_type": "stream",
     "text": [
      "x               :  [0 1 2 3]\n",
      "amplitude vector:  [0.06207773-0.87538421j 0.22984885-0.42073549j 0.        +0.j\n",
      " 0.        +0.j        ]\n",
      "q0: ─RX─RZ─\n",
      "q1: ─RX─RZ─\n"
     ]
    }
   ],
   "source": [
    "x = np.array([0,1,2,3])\n",
    "\n",
    "c_dan=denseAngle(x,num_q)\n",
    "\n",
    "print(\"x               : \", x)\n",
    "print(\"amplitude vector: \", np.array(c_dan.execute().state()))\n",
    "print(c_dan.draw())"
   ]
  }
 ],
 "metadata": {
  "kernelspec": {
   "display_name": "Python 3 (ipykernel)",
   "language": "python",
   "name": "python3"
  },
  "language_info": {
   "codemirror_mode": {
    "name": "ipython",
    "version": 3
   },
   "file_extension": ".py",
   "mimetype": "text/x-python",
   "name": "python",
   "nbconvert_exporter": "python",
   "pygments_lexer": "ipython3",
   "version": "3.11.7"
  },
  "toc": {
   "base_numbering": 1,
   "nav_menu": {},
   "number_sections": false,
   "sideBar": true,
   "skip_h1_title": true,
   "title_cell": "Table of Contents",
   "title_sidebar": "Contents",
   "toc_cell": false,
   "toc_position": {},
   "toc_section_display": true,
   "toc_window_display": false
  }
 },
 "nbformat": 4,
 "nbformat_minor": 5
}