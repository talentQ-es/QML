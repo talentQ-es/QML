{
 "cells": [
  {
   "cell_type": "code",
   "execution_count": 1,
   "metadata": {},
   "outputs": [
    {
     "name": "stderr",
     "output_type": "stream",
     "text": [
      "[Qibo 0.1.12.dev0|INFO|2024-05-22 12:50:05]: Using numpy backend on /CPU:0\n"
     ]
    }
   ],
   "source": [
    "\n",
    "import numpy as np \n",
    "import matplotlib.pyplot as plt\n",
    "\n",
    "# librería con SVM\n",
    "from sklearn import svm\n",
    "\n",
    "# Carga el conjunto de datos y algunas funciones adicionales\n",
    "from sklearn.datasets import load_iris\n",
    "from sklearn.preprocessing import StandardScaler\n",
    "from sklearn.model_selection import train_test_split\n",
    "from sklearn.metrics import accuracy_score\n",
    "\n",
    "# Librería cuántico (Qibo)\n",
    "import qibo\n",
    "from qibo import gates\n",
    "from qibo.models import Circuit\n",
    "\n",
    "#Uso de backend de numpy en Qibo\n",
    "qibo.set_backend(\"numpy\")\n"
   ]
  },
  {
   "cell_type": "code",
   "execution_count": 2,
   "metadata": {},
   "outputs": [],
   "source": [
    "X, y = load_iris(return_X_y=True)\n",
    "\n",
    "# Se selecciona solo la dos primeras clases del conjunto \n",
    "# de datos debido a que el clasificador es binario\n",
    "X = X[:100]\n",
    "y = y[:100]\n",
    "\n",
    "# Escalar los datos a distribución normal estándar debido a la \n",
    "# codificación datos es periódica\n",
    "scaler = StandardScaler().fit(X)\n",
    "X_scaled = scaler.transform(X)\n",
    "\n",
    "# Escalar las etiquetas a -1 y 1 debido que es importante para SVM\n",
    "y_scaled = 2 * (y - 0.5)\n",
    "\n",
    "# Se divide en entrenamiento y testeo\n",
    "X_train, X_test, y_train, y_test = train_test_split(X_scaled, y_scaled)"
   ]
  },
  {
   "cell_type": "code",
   "execution_count": 3,
   "metadata": {},
   "outputs": [],
   "source": [
    "# kernel cuántico\n",
    "def distancia_circuit(x,y):\n",
    "    \n",
    "    # cuatro cúbits: cuatro características\n",
    "    n_qubits = len(X_train[0]) \n",
    "    n_shots = 8000\n",
    "\n",
    "    # Create an empty circuit\n",
    "    circuit = Circuit(n_qubits)\n",
    "\n",
    "    # Codificación cuántica en puertas RY \n",
    "    for pos in range(n_qubits):\n",
    "        circuit.add(gates.RY(pos, y[pos]))\n",
    "        circuit.add(gates.RY(pos, x[pos]).dagger())\n",
    "        circuit.add(gates.M(pos))\n",
    "\n",
    "    # ejecución del circuito n veces (n_shots)\n",
    "    result = circuit.execute(nshots=n_shots)\n",
    "    # Devuelve las probabilidades analíticas\n",
    "    return result.probabilities()\n",
    "       \n",
    "# Se devuelve el probabilidad del base computacional \"0000\"\n",
    "kernel = lambda x1, x2: distancia_circuit(x1, x2)[0]"
   ]
  },
  {
   "cell_type": "code",
   "execution_count": 4,
   "metadata": {},
   "outputs": [
    {
     "data": {
      "text/plain": [
       "1.0"
      ]
     },
     "execution_count": 4,
     "metadata": {},
     "output_type": "execute_result"
    }
   ],
   "source": [
    "x = np.array([np.pi/2,np.pi/2,np.pi/2,np.pi/2])\n",
    "kernel(x,x)"
   ]
  },
  {
   "cell_type": "code",
   "execution_count": 5,
   "metadata": {},
   "outputs": [],
   "source": [
    "def kernel_matrix(A, B):\n",
    "    return np.array([[kernel(a, b) for b in B] for a in A])"
   ]
  },
  {
   "cell_type": "code",
   "execution_count": 6,
   "metadata": {},
   "outputs": [
    {
     "name": "stdout",
     "output_type": "stream",
     "text": [
      "Entrenando...\n",
      "Entrenado!\n"
     ]
    }
   ],
   "source": [
    "# Inicialización\n",
    "qsvm = svm.SVC(kernel=kernel_matrix)\n",
    "\n",
    "print(\"Entrenando...\")\n",
    "qsvm = qsvm.fit(X_train, y_train)\n",
    "\n",
    "print(\"Entrenado!\")"
   ]
  },
  {
   "cell_type": "code",
   "execution_count": 7,
   "metadata": {},
   "outputs": [
    {
     "name": "stdout",
     "output_type": "stream",
     "text": [
      "Precisión con test...\n"
     ]
    },
    {
     "data": {
      "text/plain": [
       "1.0"
      ]
     },
     "execution_count": 7,
     "metadata": {},
     "output_type": "execute_result"
    }
   ],
   "source": [
    "#test\n",
    "print(\"Precisión con test...\")\n",
    "\n",
    "predictions = qsvm.predict(X_test)\n",
    "accuracy_score(predictions, y_test)"
   ]
  },
  {
   "cell_type": "code",
   "execution_count": 8,
   "metadata": {},
   "outputs": [
    {
     "name": "stdout",
     "output_type": "stream",
     "text": [
      "Precisión con test...\n"
     ]
    },
    {
     "data": {
      "text/plain": [
       "1.0"
      ]
     },
     "execution_count": 8,
     "metadata": {},
     "output_type": "execute_result"
    }
   ],
   "source": [
    "modelclasico = svm.SVC(kernel=\"linear\")\n",
    "modelclasico.fit(X_train, y_train)\n",
    "\n",
    "print(\"Precisión con test...\")\n",
    "\n",
    "predictions = modelclasico.predict(X_test)\n",
    "accuracy_score(predictions, y_test)\n"
   ]
  }
 ],
 "metadata": {
  "kernelspec": {
   "display_name": "Python 3 (ipykernel)",
   "language": "python",
   "name": "python3"
  },
  "language_info": {
   "codemirror_mode": {
    "name": "ipython",
    "version": 3
   },
   "file_extension": ".py",
   "mimetype": "text/x-python",
   "name": "python",
   "nbconvert_exporter": "python",
   "pygments_lexer": "ipython3",
   "version": "3.11.7"
  },
  "toc": {
   "base_numbering": 1,
   "nav_menu": {},
   "number_sections": false,
   "sideBar": true,
   "skip_h1_title": true,
   "title_cell": "Table of Contents",
   "title_sidebar": "Contents",
   "toc_cell": false,
   "toc_position": {},
   "toc_section_display": true,
   "toc_window_display": false
  },
  "vscode": {
   "interpreter": {
    "hash": "e8edca44e8d84eb6663382c0430fc4eb903083b0f428b9d0b350f19027e85790"
   }
  }
 },
 "nbformat": 4,
 "nbformat_minor": 2
}