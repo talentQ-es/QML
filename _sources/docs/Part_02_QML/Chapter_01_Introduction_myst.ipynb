{
 "cells": [
  {
   "cell_type": "markdown",
   "id": "0ec3d300",
   "metadata": {},
   "source": [
    "> May 03, 2024 | {sub-ref}`wordcount-minutes` min read\n",
    "\n",
    "\n"
   ]
  },
  {
   "cell_type": "markdown",
   "id": "fa72da14",
   "metadata": {},
   "source": [
    "(sec_QML_Introduccion)= \n",
    "\n",
    "# 1. Introducción"
   ]
  },
  {
   "cell_type": "markdown",
   "id": "f50cdca1",
   "metadata": {},
   "source": [
    "Este notebook recoge los conceptos básicos para adentrarse en el mundo del QML (Quantum Machine Learning). En primer lugar, se contextualizan los campos en los que se apoya y se explica en qué se basa el QML. Posteriormente, se recogen diferentes conceptos y definiciones que facilitarán la comprensión de los distintos cuadernos teórico-prácticos disponibles.\n",
    "\n",
    "Para los ejemplos prácticos se han utilizado los siguientes frameworks:\n",
    "\n",
    "- Qibo: es un software de código abierto para trabajar con ordenadores cuánticos a nivel de circuitos, pulsos y algoritmos que cuenta con varias API de aplicaciones específicas. Su objetivo es construir una pila de software (software stack) que facilite el uso de ordenadores cuánticos permitiendo diseñar fácilmente experimentos y aplicaciones y ejecutarlos en ordenadores cuánticos reales y/o simuladores clásicos {cite}`bib_qibo`.\n"
   ]
  },
  {
   "cell_type": "markdown",
   "id": "8f37f4d0",
   "metadata": {},
   "source": [
    "(sec_ML)= \n",
    "## 1.1. Machine Learning\n"
   ]
  },
  {
   "cell_type": "markdown",
   "id": "c4fac1ce",
   "metadata": {},
   "source": [
    "El **Aprendizaje Automático** (en inglés *Machine Learning*, ML) es uno de los campos más destacados de la Inteligencia Artificial en la actualidad. Se refiere al proceso de construcción de algoritmos que pueden aprender de las observaciones existentes (o conjuntos de datos o *datasets*) y aprovechar ese aprendizaje para predecir nuevas observaciones o determinar el resultado de nuevas entradas. {cite}`bib_ibm_ml`\n",
    "\n",
    "Existen cuatro tipos de aprendizaje automático que se clasifican en función de la disponibilidad de las salidas de los ejemplos, es decir, dependerá de si se conoce el valor esperado para cada instancia del problema o no. La {numref}`fig_clasificaciónML` recoge de forma esquemática dicha clasificación.\n",
    "\n",
    "El primer tipo corresponde al **aprendizaje supervisado**. En este caso se conoce la salida de todas las instancias del problema, es decir, el conjunto de datos con el que se trabaja tiene registrados los valores a predecir de todos los ejemplos disponibles. Por lo tanto, se le podrá mostrar al algoritmo toda la información necesaria para elaborar su solución. {cite}`bib_ibm_ml`\n",
    "\n",
    "En el **aprendizaje no supervisado** sin embargo, los valores de la variable salida son desconocidos, por lo que se utilizan otro tipo de algoritmos para descubrir la estructura de los datos. Se intentan agrupar dichos ejemplos en distintos grupos con características en común. {cite}`bib_ibm_ml`\n",
    "\n",
    "El **aprendizaje semi supervisado** es una mezcla de los dos anteriores, en este caso se conoce la salida únicamente para algunos de los ejemplos, en la mayoría de ellos no se disponen de estos valores. Este tipo de aprendizaje está presente en los casos en los que el coste de conocer el valor para la variable salida es muy grande pero el obtener los datos sin esta información conlleva un coste muy bajo. {cite}`bib_ibm_ml`\n",
    "\n",
    "Por último, el **aprendizaje por refuerzo** se trata de un tipo distinto a los comentados anteriormente. Son algoritmos que aprenden por si mismos mediante recompensas. No se dispone del valor de salida por lo que no se encuentra dentro del aprendizaje supervisado, pero tampoco se trata de intentar obtener grupos con características comunes por lo que tampoco forma parte del no supervisado. {cite}`bib_ibm_ml`\n",
    "\n"
   ]
  },
  {
   "cell_type": "markdown",
   "id": "de7a48e5",
   "metadata": {},
   "source": [
    "También es interesante conocer que, dentro del aprendizaje supervisado, los problemas se pueden catalogar como *problemas de regresión* o *clasificación*. En los **problemas de regresión**, el resultado a predecir será un valor numérico y en los **problemas de clasificación** se pretende predecir una clase, entendiendo por \"clase\" a una de las categorías arbitrarias según nuestro problema. La {numref}`fig_clasificaciónML` muestra las categorías de los métodos de ML.\n",
    "\n",
    "::::{figure} imagenes/ML.jpg\n",
    ":name: \"fig_clasificaciónML\"\n",
    ":width: 700\n",
    ":align: center\n",
    "La categorías de los métodos de ML\n",
    "::::\n"
   ]
  },
  {
   "cell_type": "markdown",
   "id": "d8ef8603",
   "metadata": {},
   "source": [
    "(sec_QML)= \n",
    "## 1.2. Quantum Machine Learning"
   ]
  },
  {
   "cell_type": "markdown",
   "id": "ce37d42c",
   "metadata": {},
   "source": [
    "La tecnología cuántica ha supuesto un cambio de paradigma en el campo de la computación. Surge el **aprendizaje automático cuántico** (en inglés, *Quantum Machine Learning, QML*), un campo en evolución. El aprendizaje automático cuántico viene dado por la combinación de técnicas y algoritmos cuánticos con estrategias habituales en aprendizaje automático como se visualizar en la {numref}`fig_qmlvsml`:\n",
    "\n",
    "::::{figure} imagenes/mlvsqml.jpg\n",
    ":name: \"fig_qmlvsml\"\n",
    ":width: 552\n",
    ":align: center\n",
    "ML vs QML\n",
    "::::\n",
    "\n",
    "\n",
    "\n",
    "\n",
    "Se puede combinar la computación cuántica con el aprendizaje automático de diversas maneras, obteniendo cuatro áreas de trabajo. Estas corresponden a las que se muestran en la {numref}`fig_areaTrabajoML`:\n",
    "\n",
    "::::{figure} imagenes/datatype.jpg\n",
    ":name: \"fig_areaTrabajoML\"\n",
    ":width: 423\n",
    ":align: center\n",
    "Áreas de trabajo QML\n",
    "::::\n",
    "\n",
    "\n",
    "**CC**: Se refiere a procesar datos clásicos con ordenadores clásicos, haciendo uso de algoritmos inspirados en computación cuántica. En otras palabras, hace referencia al machine learning clásico que directamente no tiene una base de quantum, si no que toma prestadas ideas de la física cuántica. {cite}`bib_ibm_qml`\n",
    "\n",
    "**CQ**: En este caso, se procesan datos clásicos utilizando algoritmos de _quantum machine learning_. Será con la tipología que trabajaremos a partir de ahora. En este área se pretende encontrar soluciones más eficaces para problemas típicamente solucionados con ML pero sobre ordenadores cuánticos. {cite}`bib_ibm_qml`\n",
    "\n",
    "**QC**: Se trata de un área de investigación, utilizan algoritmos clásicos para tratar datos cuánticos. {cite}`bib_ibm_qml`\n",
    "\n",
    "**QQ**: Se podría decir que esta sería la aproximación más “pura”, ya que se realiza un procesamiento de los datos cuánticos y estos datos cuánticos se procesan haciendo uso del aprendizaje automático cuántico. {cite}`bib_ibm_qml`\n"
   ]
  },
  {
   "cell_type": "markdown",
   "id": "639e12bc",
   "metadata": {},
   "source": [
    "(sec_ConceptosIntro)= \n",
    "## 1.3. Conceptos"
   ]
  },
  {
   "cell_type": "markdown",
   "id": "630b8a99",
   "metadata": {},
   "source": [
    "- ***Kernel***: El QML puede utilizarse para realizar la evaluación del *kernel* introduciendo estimaciones de un ordenador cuántico en el método estándar. Aunque el entrenamiento y la inferencia del modelo tendrán que hacerse en el SVM (*Support-Vector Machine*) estándar, el uso de QSVM (*Quantum SVM*) podría ayudar a acelerar el proceso. A medida que se amplía el espacio de características, la estimación de las funciones *kernel* en la computación clásica resulta costosa desde el punto de vista computacional. Las propiedades cuánticas ayudan a crear un espacio de estado cuántico masivo que puede mejorar la evaluación de los *kernels* {cite}`bib_geeks_guideqml`. \n",
    "\n",
    "\n",
    "- **PCA** (*Principal Component Analysis*): Es una técnica de extracción de características donde se combinan las entradas de una manera específica y se pueden eliminar algunas de las variables “menos importantes” manteniendo la parte más significativa de todas las variables. Como valor añadido, tras aplicar técnicas de PCA se obtienen variables independientes entre sí {cite}`bib_aprendemachinelearning_cp`.\n",
    "\n",
    "\n",
    "- **Función de coste**: Trata de definir el error entre el valor estimado y el valor real con el fin de optimizar el algoritmo. En otras palabras, la función de coste cuantifica el error que se ha cometido al predecir los valores deseados.\n",
    "\n",
    "\n",
    "- **Optimización**: Los problemas de optimización están presentes en muchos campos de estudio e implican encontrar las entradas que darán el mejor resultado posible para un problema dado. Por lo general, encontrar el mejor resultado posible equivale a minimizar la función de coste {cite}`bib_pennylane_qml`. Los algoritmos de optimización de inspiración cuántica aprovechan algunas de las ventajas de la computación cuántica en hardware clásico, lo que proporciona más velocidad que en los enfoques tradicionales. Los algoritmos de inspiración cuántica son algoritmos clásicos en los que se puede emular de forma clásica el fenómeno cuántico esencial que proporcionaría el aumento de velocidad. \n",
    "\n",
    "\n",
    "- **Gradiente**: En matemáticas el gradiente es una generalización de la derivada. La derivada se puede definir solo en funciones de una sola variable, en funciones de varias variables este término se denomina gradiente. Debido a esto, el gradiente es una función de valor vectorial a diferencia de una derivada que toma un valor escalar. Al igual que la derivada, el gradiente representa la pendiente de la recta tangente a la función estudiada, concretamente el gradiente apunta a aquellos puntos de la función con mayor incremento. En el caso de machine learning, resulta de interés el gradiente de la función de coste {cite}`bib_Martinez_gradiente`. \n",
    "\n",
    "\n",
    "- **Medida** (*Measurement*): El paso final en computación cuántica es la medida de uno o más qubits, después de todo se necesita obtener el resultado de lo que se ha estado calculando cuánticamente. Pese a que este último paso puede parecer una última capa del circuito, no se tiene en cuenta a la hora de calcular la profundidad. La definición de la medida es el problema central de la mecánica cuántica y esta estrechamente relacionada con las amplitudes del estado con el que se está trabajando, ya que el resultado obtenido depende de dichas probabilidades {cite}`bib_qmware`.\n",
    "\n",
    "- **Función convexa**: Una función es convexa en un punto cuando la función cae por encima de la tangente en ese punto {cite}`bib_concava_convexa`. En otras palabras, consideramos que una función es convexa cuando tiene forma de valle, una función de este tipo se visualiza como en la {numref}`fig_fconvexa`.\n",
    "\n",
    "::::{figure} imagenes/Convexa_funcion.png\n",
    ":name: \"fig_fconvexa\"\n",
    ":width: 200px\n",
    ":align: center\n",
    "Visualización función convexa\n",
    "::::\n",
    "\n",
    "- **Función cóncava**: Una función es cóncava en un punto cuando la función cae por debajo de la tangente en ese punto {cite}`bib_concava_convexa`. Dicho de otra manera, este tipo de funciones se asemejan a la forma de una montaña, tal y como se muestra en la {numref}`fig_fconcava`.\n",
    "\n",
    "::::{figure} imagenes/Concava_funcion.png\n",
    ":name: \"fig_fconcava\"\n",
    ":width: 200px\n",
    ":align: center\n",
    "Visualización función cóncava\n",
    "::::\n"
   ]
  },
  {
   "cell_type": "markdown",
   "id": "4dbddd5c",
   "metadata": {},
   "source": [
    "---\n",
    "## Bibliografía \n",
    "```{bibliography} \n",
    ":style: plain\n",
    ":filter: docname in docnames\n",
    "```",
    "",
    "",
    "",
    "",
    "",
    "",
    "",
    "",
    "",
    "",
    "",
    "",
    "",
    "",
    "",
    "",
    "",
    "",
    "",
    "",
    "",
    ""
   ]
  },
  {
   "cell_type": "markdown",
   "id": "5d74f55d",
   "metadata": {},
   "source": [
    "---\n",
    "Autores:\n",
    "\n",
    "Carmen Calvo ([SCAYLE](https://www.scayle.es/)), Antoni Alou ([PIC](https://www.pic.es/)), Carlos Hernani ([UV](https://www.uv.es/)), Nahia Iriarte ([NASERTIC](https://www.nasertic.es/es)) y Carlos Luque ([IAC](https://www.iac.es/))\n",
    "\n",
    "<img src=\"images/LOGO-SCAILE.png\"  width=\"140px\">\n",
    "<img src=\"images/Logo_pic.png\" width=\"140px\">\n",
    "<img src=\"images/Logo_UV.jpg\" width=\"160px\">\n",
    "<img src=\"images/Logo_Nasertic.png\" width=\"160px\">\n",
    "<img src=\"images/Logo_IAC.jpg\" width=\"160px\">\n",
    "\n",
    "---\n",
    "::::{figure} https://quantumspain-project.es/wp-content/uploads/2022/11/Logo_QS_EspanaDigital.png\n",
    ":width: 2000px\n",
    ":align: center\n",
    "::::\n",
    "\n",
    "<center>\n",
    "<a rel=\"license\" href=\"http://creativecommons.org/licenses/by-sa/4.0/\">\n",
    "<img aling=\"left\" alt=\"Licencia Creative Commons\" style=\"border-width:0\" src=\"https://i.creativecommons.org/l/by-sa/4.0/88x31.png\" /></a>\n",
    "</center>\n",
    "\n",
    "License: <a rel=\"license\" href=\"http://creativecommons.org/licenses/by-sa/4.0/\">Licencia Creative Commons Atribución-CompartirIgual 4.0 Internacional</a>.\n",
    "\n",
    "This work has been financially supported by the Ministry for Digital Transformation and of Civil Service of the Spanish Government through the QUANTUM ENIA project call - Quantum Spain project, and by the European Union through the Recovery, Transformation and Resilience Plan - NextGenerationEU within the framework of the Digital Spain 2026 Agenda.\n",
    "\n",
    "<center>\n",
    "<img align=\"left\" src=\"https://quantumspain-project.es/wp-content/uploads/2024/02/Banner-QS_GOB_v2.png\" width=\"1000px\" />\n",
    "</center>"
   ]
  }
 ],
 "metadata": {
  "kernelspec": {
   "display_name": "Python 3 (ipykernel)",
   "language": "python",
   "name": "python3"
  },
  "language_info": {
   "codemirror_mode": {
    "name": "ipython",
    "version": 3
   },
   "file_extension": ".py",
   "mimetype": "text/x-python",
   "name": "python",
   "nbconvert_exporter": "python",
   "pygments_lexer": "ipython3",
   "version": "3.11.7"
  },
  "toc": {
   "base_numbering": 1,
   "nav_menu": {},
   "number_sections": false,
   "sideBar": true,
   "skip_h1_title": true,
   "title_cell": "Table of Contents",
   "title_sidebar": "Contents",
   "toc_cell": false,
   "toc_position": {},
   "toc_section_display": true,
   "toc_window_display": false
  }
 },
 "nbformat": 4,
 "nbformat_minor": 5
}
