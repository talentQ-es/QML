{
 "cells": [
  {
   "attachments": {},
   "cell_type": "markdown",
   "id": "0ec3d300",
   "metadata": {},
   "source": [
    "<img align=\"left\" src=\"https://quantumspain-project.es/wp-content/uploads/2022/11/Logo_QS_EspanaDigital.png\" width=\"1000px\"/><br><br><br><br>\n",
    "\n",
    "\n",
    "# QML (Quantum Machine Learning)\n",
    "\n",
    "Created: 2022/10/30\n",
    "\n",
    "<a rel=\"license\" href=\"http://creativecommons.org/licenses/by-sa/4.0/\"><img aling=\"left\" alt=\"Licencia Creative Commons\" style=\"border-width:0\" src=\"https://i.creativecommons.org/l/by-sa/4.0/88x31.png\" /></a><br />License: <a rel=\"license\" href=\"http://creativecommons.org/licenses/by-sa/4.0/\">Licencia Creative Commons Atribución-CompartirIgual 4.0 Internacional</a>.\n",
    "Internal Reviewers:\n",
    "* Alba Cervera ([BSC](https://www.bsc.es/))\n",
    "\n",
    "Authors:\n",
    "* Carmen Calvo ([SCAYLE](https://www.scayle.es/))\n",
    "* Antoni Alou ([PIC](https://www.pic.es/))\n",
    "* Carlos Hernani ([UV](https://www.uv.es/))\n",
    "* Nahia Iriarte ([NASERTIC](https://www.nasertic.es/es))\n",
    "* Carlos Luque ([IAC](https://www.iac.es/))\n"
   ]
  },
  {
   "cell_type": "code",
   "execution_count": 25,
   "id": "8dd6c9c3",
   "metadata": {},
   "outputs": [],
   "source": [
    "import qiskit\n",
    "from qiskit import IBMQ\n",
    "import qiskit.tools.jupyter\n",
    "%matplotlib inline\n",
    "\n",
    "#IBMQ.load_account()\n",
    "\n",
    "#%qiskit_backend_overview;"
   ]
  },
  {
   "cell_type": "code",
   "execution_count": 26,
   "id": "f3efa227",
   "metadata": {},
   "outputs": [
    {
     "data": {
      "application/vnd.jupyter.widget-view+json": {
       "model_id": "b3f97fb0bedb4d7b9d673c36bee687d5",
       "version_major": 2,
       "version_minor": 0
      },
      "text/plain": [
       "Accordion(children=(VBox(layout=Layout(max_width='710px', min_width='710px')),), layout=Layout(max_height='500…"
      ]
     },
     "metadata": {},
     "output_type": "display_data"
    },
    {
     "data": {
      "application/javascript": "\n        const isLab = window['Jupyter'] === undefined;\n        const notebook = document.querySelector( isLab ? 'div.jp-Notebook' : '#site');\n        const jobWidget = document.querySelector('div.job_widget');\n        notebook.prepend(jobWidget);\n        jobWidget.style.zIndex = '999';\n        jobWidget.style.position = isLab ? 'sticky' : 'fixed';\n        jobWidget.style.boxShadow = '5px 5px 5px -3px black';\n        jobWidget.style.opacity = '0.95';\n        if (isLab) {\n            jobWidget.style.top = '0';\n            jobWidget.style.left = '0';\n        }\n        ",
      "text/plain": [
       "<IPython.core.display.Javascript object>"
      ]
     },
     "metadata": {},
     "output_type": "display_data"
    }
   ],
   "source": [
    "%qiskit_job_watcher\n"
   ]
  },
  {
   "cell_type": "code",
   "execution_count": 27,
   "id": "2192363a",
   "metadata": {},
   "outputs": [
    {
     "data": {
      "application/vnd.jupyter.widget-view+json": {
       "model_id": "2c5615455b0c41ef9b4a3c200e62a470",
       "version_major": 2,
       "version_minor": 0
      },
      "text/plain": [
       "VBox(children=(HTML(value=''), IntProgress(value=0, bar_style='info', max=1000)))"
      ]
     },
     "metadata": {},
     "output_type": "display_data"
    }
   ],
   "source": [
    "import numpy as np\n",
    "from qiskit.tools.parallel import parallel_map\n",
    "\n",
    "%qiskit_progress_bar\n",
    "parallel_map(np.sin, np.linspace(0,10,1000));"
   ]
  },
  {
   "cell_type": "code",
   "execution_count": 28,
   "id": "9be9d18f",
   "metadata": {},
   "outputs": [
    {
     "data": {
      "text/html": [
       "<h3>Version Information</h3><table><tr><th>Qiskit Software</th><th>Version</th></tr><tr><td><code>qiskit-terra</code></td><td>0.20.2</td></tr><tr><td><code>qiskit-aer</code></td><td>0.10.4</td></tr><tr><td><code>qiskit-ignis</code></td><td>0.7.1</td></tr><tr><td><code>qiskit-ibmq-provider</code></td><td>0.19.1</td></tr><tr><td><code>qiskit-aqua</code></td><td>0.9.5</td></tr><tr><td><code>qiskit</code></td><td>0.36.2</td></tr><tr><td><code>qiskit-nature</code></td><td>0.4.1</td></tr><tr><th>System information</th></tr><tr><td>Python version</td><td>3.9.9</td></tr><tr><td>Python compiler</td><td>GCC 10.1.0</td></tr><tr><td>Python build</td><td>main, Dec  1 2021 15:05:04</td></tr><tr><td>OS</td><td>Linux</td></tr><tr><td>CPUs</td><td>64</td></tr><tr><td>Memory (Gb)</td><td>251.26155853271484</td></tr><tr><td colspan='2'>Mon Nov 07 12:42:27 2022 CET</td></tr></table>"
      ],
      "text/plain": [
       "<IPython.core.display.HTML object>"
      ]
     },
     "metadata": {},
     "output_type": "display_data"
    }
   ],
   "source": [
    "%qiskit_version_table"
   ]
  },
  {
   "cell_type": "markdown",
   "id": "5d74f55d",
   "metadata": {},
   "source": [
    "This work has been financially supported by the Ministry of Economic Affairs and Digital Transformation of the Spanish Government through the QUANTUM ENIA project call - Quantum Spain project, and by the European Union through the Recovery, Transformation and Resilience Plan - NextGenerationEU within the framework of the Digital Spain 2025 Agenda.\n",
    "\n",
    "\n",
    "<img align=\"left\" src=\"https://quantumspain-project.es/wp-content/uploads/2022/11/LOGOS-GOB_QS.png\" width=\"1000px\" />"
   ]
  },
  {
   "cell_type": "code",
   "execution_count": null,
   "id": "7f47dac1",
   "metadata": {},
   "outputs": [],
   "source": []
  }
 ],
 "metadata": {
  "kernelspec": {
   "display_name": "Python 3 (ipykernel)",
   "language": "python",
   "name": "python3"
  },
  "language_info": {
   "codemirror_mode": {
    "name": "ipython",
    "version": 3
   },
   "file_extension": ".py",
   "mimetype": "text/x-python",
   "name": "python",
   "nbconvert_exporter": "python",
   "pygments_lexer": "ipython3",
   "version": "3.9.9"
  }
 },
 "nbformat": 4,
 "nbformat_minor": 5
}
